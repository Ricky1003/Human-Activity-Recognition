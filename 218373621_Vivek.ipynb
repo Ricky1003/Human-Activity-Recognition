{
 "cells": [
  {
   "cell_type": "markdown",
   "metadata": {},
   "source": [
    "## Task B- KNN"
   ]
  },
  {
   "cell_type": "code",
   "execution_count": 52,
   "metadata": {},
   "outputs": [],
   "source": [
    "import numpy as np\n",
    "import pandas as pd\n",
    "import matplotlib.pyplot as plt\n",
    "import os"
   ]
  },
  {
   "cell_type": "code",
   "execution_count": 53,
   "metadata": {},
   "outputs": [],
   "source": [
    "X_train= pd.read_table('X_train.txt', delim_whitespace= True)\n",
    "Y_train= pd.read_table('y_train.txt', delim_whitespace= True)\n",
    "X_test= pd.read_table('X_test.txt', delim_whitespace= True)\n",
    "Y_test= pd.read_table('y_test.txt', delim_whitespace= True)"
   ]
  },
  {
   "cell_type": "code",
   "execution_count": 54,
   "metadata": {},
   "outputs": [],
   "source": [
    "X_train= np.array(X_train)\n",
    "Y_train= np.array(Y_train.T)[0]\n",
    "X_test= np.array(X_test)\n",
    "Y_test= np.array(Y_test.T)[0]"
   ]
  },
  {
   "cell_type": "code",
   "execution_count": 55,
   "metadata": {},
   "outputs": [],
   "source": [
    "from sklearn.neighbors import KNeighborsClassifier\n",
    "from sklearn.model_selection import cross_val_score"
   ]
  },
  {
   "cell_type": "code",
   "execution_count": 56,
   "metadata": {},
   "outputs": [
    {
     "name": "stdout",
     "output_type": "stream",
     "text": [
      "Accuracy for each fold: [0.90635354 0.81156802 0.91064599 0.86124209 0.90436957 0.85489135\n",
      " 0.90919263 0.91879709 0.92241406 0.90982146]\n",
      "Mean Accuracy: 0.8909295802606124\n",
      "Accuracy for each fold: [0.86637163 0.7898532  0.89315314 0.86472576 0.90209128 0.87315564\n",
      " 0.89440054 0.90120832 0.90139699 0.89452711]\n",
      "Mean Accuracy: 0.8780883617170719\n",
      "Accuracy for each fold: [0.90946285 0.81250507 0.91467786 0.87239824 0.91455805 0.88018928\n",
      " 0.9204426  0.93674543 0.91888225 0.93840662]\n",
      "Mean Accuracy: 0.9018268244842307\n",
      "Accuracy for each fold: [0.88983558 0.82704328 0.91298094 0.88302953 0.91362401 0.87642822\n",
      " 0.91083905 0.93974885 0.92591943 0.9250491 ]\n",
      "Mean Accuracy: 0.9004497992956205\n",
      "Accuracy for each fold: [0.92269892 0.82112975 0.91141097 0.88036836 0.91534929 0.87208053\n",
      " 0.9306833  0.93671291 0.93596463 0.93018168]\n",
      "Mean Accuracy: 0.905658033872521\n",
      "Accuracy for each fold: [0.91605733 0.82805672 0.90956604 0.88337481 0.91362021 0.8775091\n",
      " 0.9248626  0.93689893 0.9317814  0.92861957]\n",
      "Mean Accuracy: 0.9050346718423062\n",
      "Accuracy for each fold: [0.92640695 0.8284996  0.90950464 0.86841737 0.91737022 0.87062547\n",
      " 0.92141855 0.94203296 0.93600892 0.937893  ]\n",
      "Mean Accuracy: 0.905817767981068\n",
      "Accuracy for each fold: [0.92209198 0.830459   0.90729889 0.87730803 0.92051486 0.87908051\n",
      " 0.92826408 0.94677026 0.93700936 0.93676065]\n",
      "Mean Accuracy: 0.9085557618011244\n",
      "Accuracy for each fold: [0.93089865 0.82843088 0.90961609 0.86512157 0.91044559 0.87033589\n",
      " 0.92284401 0.94211639 0.92745337 0.93875407]\n",
      "Mean Accuracy: 0.904601651093299\n",
      "Accuracy for each fold: [0.92318889 0.8293313  0.91568049 0.88431257 0.91694035 0.87325775\n",
      " 0.9341244  0.94618598 0.93155805 0.93759716]\n",
      "Mean Accuracy: 0.9092176941861627\n",
      "Accuracy for each fold: [0.92867961 0.83060844 0.90961228 0.87058947 0.91558923 0.86675993\n",
      " 0.93275135 0.93789337 0.92939353 0.9429593 ]\n",
      "Mean Accuracy: 0.9064836485870724\n",
      "Accuracy for each fold: [0.92840281 0.83133389 0.91057828 0.8787651  0.92023396 0.86634354\n",
      " 0.93366012 0.93875688 0.93378929 0.93724557]\n",
      "Mean Accuracy: 0.9079109444392076\n",
      "Accuracy for each fold: [0.92840645 0.82402652 0.91339862 0.87387544 0.91451392 0.86782095\n",
      " 0.93474992 0.93324761 0.93241375 0.93712413]\n",
      "Mean Accuracy: 0.9059577290516243\n",
      "Accuracy for each fold: [0.9285761  0.8276078  0.91428423 0.87713701 0.91711535 0.87340956\n",
      " 0.93009961 0.9358088  0.93766828 0.93843141]\n",
      "Mean Accuracy: 0.9080138145740104\n",
      "Accuracy for each fold: [0.92680688 0.8347903  0.9096354  0.87203092 0.9155137  0.86643715\n",
      " 0.93769384 0.93457018 0.93230094 0.94069323]\n",
      "Mean Accuracy: 0.9070472542040916\n",
      "Accuracy for each fold: [0.92540325 0.82034501 0.91331579 0.87129116 0.9100551  0.87106382\n",
      " 0.93203411 0.93878919 0.93625786 0.93342631]\n",
      "Mean Accuracy: 0.9051981613466541\n",
      "Accuracy for each fold: [0.92963179 0.83434788 0.91845758 0.86870229 0.90714854 0.86662515\n",
      " 0.93240277 0.93158081 0.93340717 0.9369218 ]\n",
      "Mean Accuracy: 0.9059225767833162\n",
      "Accuracy for each fold: [0.93186754 0.82661086 0.92279886 0.87399377 0.9070309  0.86801247\n",
      " 0.93088251 0.92819272 0.93756163 0.93134526]\n",
      "Mean Accuracy: 0.9058296528359637\n",
      "Accuracy for each fold: [0.93129183 0.83477694 0.91657653 0.87262609 0.91093303 0.86351774\n",
      " 0.92956155 0.92901258 0.93219627 0.93944919]\n",
      "Mean Accuracy: 0.905994175731573\n",
      "Accuracy for each fold: [0.92827432 0.83620655 0.92010662 0.87508529 0.91082369 0.86649833\n",
      " 0.92990343 0.92559837 0.93657166 0.94046507]\n",
      "Mean Accuracy: 0.9069533318161322\n",
      "Accuracy for each fold: [0.92866025 0.83469258 0.91596249 0.87118259 0.9092942  0.8668079\n",
      " 0.93124859 0.92807489 0.93237319 0.93747492]\n",
      "Mean Accuracy: 0.9055771579497384\n",
      "Accuracy for each fold: [0.92789421 0.82547656 0.91584541 0.87136441 0.90803801 0.86511522\n",
      " 0.92812931 0.92761371 0.9335255  0.93521555]\n",
      "Mean Accuracy: 0.9038217888258944\n",
      "Accuracy for each fold: [0.93307661 0.8268438  0.90968029 0.86627521 0.90755179 0.86662515\n",
      " 0.92784059 0.93310813 0.93493692 0.94039849]\n",
      "Mean Accuracy: 0.9046336972635272\n",
      "Accuracy for each fold: [0.93142079 0.82289334 0.91352968 0.87098237 0.90516337 0.86530052\n",
      " 0.92381303 0.92887762 0.93893466 0.93712413]\n",
      "Mean Accuracy: 0.9038039508511535\n",
      "Accuracy for each fold: [0.93297345 0.82156297 0.91223962 0.86813657 0.9073191  0.86364265\n",
      " 0.92970603 0.92712355 0.93893466 0.93789264]\n",
      "Mean Accuracy: 0.9039531238775644\n",
      "Accuracy for each fold: [0.93173399 0.82106399 0.91469309 0.87524271 0.90418891 0.86364265\n",
      " 0.92239492 0.9249786  0.94038574 0.93541428]\n",
      "Mean Accuracy: 0.9033738871549405\n",
      "Accuracy for each fold: [0.93300689 0.8235009  0.91600581 0.86854594 0.90967521 0.86032083\n",
      " 0.92505188 0.92286808 0.93760663 0.93658965]\n",
      "Mean Accuracy: 0.9033171812356097\n",
      "Accuracy for each fold: [0.92881336 0.82401243 0.91805319 0.87787088 0.90418891 0.85654214\n",
      " 0.92236572 0.91683811 0.9374222  0.93582205]\n",
      "Mean Accuracy: 0.9021928989595664\n",
      "Accuracy for each fold: [0.92866403 0.8241727  0.9164398  0.86729351 0.90136253 0.85939811\n",
      " 0.92125167 0.91985342 0.93879956 0.93321372]\n",
      "Mean Accuracy: 0.9010449040590114\n",
      "Accuracy for each fold: [0.92971563 0.81929509 0.91791655 0.8753152  0.90135299 0.86373496\n",
      " 0.9170471  0.91987225 0.93578435 0.93454219]\n",
      "Mean Accuracy: 0.901457631187014\n",
      "Accuracy for each fold: [0.92740184 0.82548441 0.91785945 0.86869297 0.90304474 0.85951295\n",
      " 0.91876572 0.92143587 0.93809045 0.93945874]\n",
      "Mean Accuracy: 0.9019747161056861\n",
      "Accuracy for each fold: [0.92225806 0.81985109 0.92024261 0.87802479 0.90560926 0.85951295\n",
      " 0.91604516 0.91987684 0.94086163 0.93702494]\n",
      "Mean Accuracy: 0.9019307344381369\n",
      "Accuracy for each fold: [0.92493038 0.82283528 0.92325401 0.87346877 0.90705107 0.85951295\n",
      " 0.91443003 0.91787235 0.93809045 0.93687223]\n",
      "Mean Accuracy: 0.9018317519456225\n",
      "Accuracy for each fold: [0.92654752 0.82613687 0.92178517 0.87676701 0.90320169 0.85941806\n",
      " 0.91163034 0.91523155 0.93942313 0.93488648]\n",
      "Mean Accuracy: 0.9015027832071523\n",
      "Accuracy for each fold: [0.92444833 0.82692077 0.91791257 0.87234301 0.90376978 0.85809276\n",
      " 0.91414338 0.92057295 0.93530214 0.93692861]\n",
      "Mean Accuracy: 0.9010434279771011\n",
      "Accuracy for each fold: [0.92775657 0.82815997 0.91792299 0.87055529 0.90320169 0.85793471\n",
      " 0.9141164  0.91215332 0.93578435 0.93325991]\n",
      "Mean Accuracy: 0.9000845188207409\n",
      "Accuracy for each fold: [0.92883376 0.82750059 0.91080346 0.87005908 0.90662081 0.85656425\n",
      " 0.91840368 0.91701664 0.93397397 0.93569037]\n",
      "Mean Accuracy: 0.9005466614058492\n",
      "Accuracy for each fold: [0.92748933 0.82467095 0.91387425 0.87422818 0.90182139 0.85952922\n",
      " 0.91527987 0.91521725 0.9355262  0.93617277]\n",
      "Mean Accuracy: 0.9003809404553603\n",
      "Accuracy for each fold: [0.92742319 0.83017053 0.91392365 0.87322386 0.90259357 0.85666859\n",
      " 0.91255125 0.91822878 0.93261359 0.9411315 ]\n",
      "Mean Accuracy: 0.9008528518564477\n",
      "Accuracy for each fold: [0.92573391 0.82691933 0.91769937 0.87433734 0.90325932 0.85810233\n",
      " 0.91279237 0.91396699 0.93422727 0.93989186]\n",
      "Mean Accuracy: 0.900693008826595\n",
      "Accuracy for each fold: [0.92455492 0.82154216 0.91373121 0.8689387  0.89998879 0.85663078\n",
      " 0.91154574 0.9185766  0.93276945 0.93983968]\n",
      "Mean Accuracy: 0.8988118032953576\n",
      "Accuracy for each fold: [0.92281969 0.83054756 0.91559947 0.87317509 0.90445255 0.85652726\n",
      " 0.91600351 0.91680187 0.93545527 0.93648495]\n",
      "Mean Accuracy: 0.9007867228345534\n",
      "Accuracy for each fold: [0.92306013 0.82624533 0.91271513 0.87070791 0.90281997 0.85221089\n",
      " 0.91407736 0.91620776 0.93276945 0.94261809]\n",
      "Mean Accuracy: 0.8993432027900564\n",
      "Accuracy for each fold: [0.92196187 0.8254573  0.91372088 0.87322919 0.90304474 0.85359006\n",
      " 0.91303476 0.91622587 0.9341148  0.93896161]\n",
      "Mean Accuracy: 0.8993341075707102\n",
      "Accuracy for each fold: [0.91964032 0.82916998 0.91106587 0.87618231 0.90587517 0.85053252\n",
      " 0.9114946  0.91620776 0.93276945 0.94267664]\n",
      "Mean Accuracy: 0.8995614631989703\n",
      "Accuracy for each fold: [0.91792968 0.83030228 0.91501215 0.87261509 0.90489846 0.85337961\n",
      " 0.91284949 0.91312891 0.93545527 0.93858796]\n",
      "Mean Accuracy: 0.8994158891168091\n",
      "Accuracy for each fold: [0.91891195 0.82512254 0.91155701 0.86999    0.90445911 0.85069387\n",
      " 0.90996783 0.91312891 0.93276945 0.94014346]\n",
      "Mean Accuracy: 0.8976744124752157\n",
      "Accuracy for each fold: [0.92044747 0.82768969 0.91437987 0.86756581 0.90629827 0.85497469\n",
      " 0.91302557 0.91129468 0.9341148  0.93353319]\n",
      "Mean Accuracy: 0.8983324046446886\n"
     ]
    },
    {
     "name": "stdout",
     "output_type": "stream",
     "text": [
      "Accuracy for each fold: [0.92054101 0.82920383 0.9101613  0.86466589 0.90728549 0.85497469\n",
      " 0.90589604 0.91254344 0.93276945 0.93594751]\n",
      "Mean Accuracy: 0.8973988650819138\n"
     ]
    }
   ],
   "source": [
    "x = []\n",
    "\n",
    "for i in range(1,50):  #K taking values from 1 to 50\n",
    "    knn_model = KNeighborsClassifier(i)\n",
    "    scores = cross_val_score(knn_model, X_train, Y_train, cv=10, scoring='f1_macro')\n",
    "    print(\"Accuracy for each fold: {}\".format(scores))   \n",
    "    print(\"Mean Accuracy: {}\".format(np.mean(scores))) \n",
    "    avg_score = np.mean(scores)\n",
    "    x = x + [avg_score]"
   ]
  },
  {
   "cell_type": "code",
   "execution_count": 72,
   "metadata": {},
   "outputs": [
    {
     "name": "stdout",
     "output_type": "stream",
     "text": [
      "Best F1 Score: 0.9092176941861627\n",
      "corresponding K value: 10\n"
     ]
    }
   ],
   "source": [
    "import operator\n",
    "index, value = max(enumerate(x), key=operator.itemgetter(1)) # Storing Best Value of F1 score and K\n",
    "print(\"Best F1 Score:\", value)\n",
    "print(\"corresponding K value:\",index+1) "
   ]
  },
  {
   "cell_type": "code",
   "execution_count": 58,
   "metadata": {},
   "outputs": [
    {
     "data": {
      "text/plain": [
       "[<matplotlib.lines.Line2D at 0x7f809dc6d8>]"
      ]
     },
     "execution_count": 58,
     "metadata": {},
     "output_type": "execute_result"
    },
    {
     "data": {
      "image/png": "[encoded data removed]",
      "text/plain": [
       "<Figure size 432x288 with 1 Axes>"
      ]
     },
     "metadata": {},
     "output_type": "display_data"
    }
   ],
   "source": [
    "#plotting accuracy verses K plot\n",
    "from sklearn.neighbors import KNeighborsClassifier\n",
    "from sklearn import metrics\n",
    "accuracy= []\n",
    "k=[]\n",
    "\n",
    "for i in range(1,50):\n",
    "    knn_model = KNeighborsClassifier(i)\n",
    "    k=k+[i]\n",
    "    knn_model.fit(X_train, Y_train)\n",
    "    knn_acc = metrics.accuracy_score(Y_train, knn_model.predict(X_train))\n",
    "    accuracy= accuracy+ [knn_acc]\n",
    "    \n",
    "plt.plot(k[0:], accuracy[0:])"
   ]
  },
  {
   "cell_type": "code",
   "execution_count": 73,
   "metadata": {},
   "outputs": [
    {
     "name": "stdout",
     "output_type": "stream",
     "text": [
      "KNN Testing Accuracy: 0.906653088934148\n",
      "Confusion matrix: [[486   0  10   0   0   0]\n",
      " [ 36 431   4   0   0   0]\n",
      " [ 51  41 328   0   0   0]\n",
      " [  0   4   0 409  78   0]\n",
      " [  0   0   0  47 484   0]\n",
      " [  0   0   0   2   2 533]]\n",
      "Multi-class averaged F1-score: 0.9037726928656652\n"
     ]
    }
   ],
   "source": [
    "knn_model = KNeighborsClassifier(n_neighbors=index+1)\n",
    "knn_model.fit(X_train, Y_train)\n",
    "\n",
    "knn_acc = metrics.accuracy_score(Y_test, knn_model.predict(X_test))\n",
    "print (\"KNN Testing Accuracy: {}\".format(knn_acc))\n",
    "\n",
    "Confusion_matrix=metrics.confusion_matrix(Y_test, knn_model.predict(X_test), labels=None, sample_weight=None)\n",
    "print (\"Confusion matrix:\", Confusion_matrix)\n",
    "\n",
    "Average_f1_score= metrics.f1_score(Y_test, knn_model.predict(X_test), pos_label=1, average='macro', sample_weight=None)\n",
    "print (\"Multi-class averaged F1-score:\",Average_f1_score)"
   ]
  },
  {
   "cell_type": "markdown",
   "metadata": {},
   "source": [
    "## Task C- Elastic Net"
   ]
  },
  {
   "cell_type": "code",
   "execution_count": 107,
   "metadata": {},
   "outputs": [],
   "source": [
    "from sklearn.linear_model import SGDClassifier\n",
    "from sklearn.model_selection import cross_val_score"
   ]
  },
  {
   "cell_type": "code",
   "execution_count": 108,
   "metadata": {},
   "outputs": [],
   "source": [
    "Alpha= [1e-4,3e-4,1e-3,3e-3, 1e-2,3e-2]\n",
    "Ratio=[0,0.15,0.5,0.7,1]"
   ]
  },
  {
   "cell_type": "code",
   "execution_count": 109,
   "metadata": {},
   "outputs": [
    {
     "name": "stdout",
     "output_type": "stream",
     "text": [
      "Accuracy for each fold: [0.98828767 0.86136155 0.93004469 0.8161904  0.92117495 0.95445429\n",
      " 0.98658955 0.93956669 0.97325105 0.97857241]\n",
      "Mean Accuracy: 0.9349493243346275\n",
      "Accuracy for each fold: [0.98314344 0.85085604 0.95575707 0.82104337 0.90662303 0.94292717\n",
      " 0.97371371 0.97992659 0.9584726  0.98104462]\n",
      "Mean Accuracy: 0.9353507632853761\n",
      "Accuracy for each fold: [0.98403936 0.83096238 0.95490842 0.82584667 0.92496377 0.94817972\n",
      " 0.98462776 0.96520472 0.95361357 0.97823166]\n",
      "Mean Accuracy: 0.9350578039590213\n",
      "Accuracy for each fold: [0.98116684 0.81865313 0.94500025 0.82702668 0.9170023  0.94132113\n",
      " 0.98560537 0.96661507 0.96336406 0.97232665]\n",
      "Mean Accuracy: 0.9318081487575591\n",
      "Accuracy for each fold: [0.98339873 0.85036026 0.93907813 0.80808749 0.91165838 0.92653156\n",
      " 0.96873041 0.95550137 0.96499383 0.98109331]\n",
      "Mean Accuracy: 0.928943347257994\n",
      "Accuracy for each fold: [0.93843552 0.85654293 0.94473668 0.84161096 0.93147114 0.94411917\n",
      " 0.97421796 0.97235185 0.92197459 0.95572264]\n",
      "Mean Accuracy: 0.9281183446275637\n",
      "Accuracy for each fold: [0.97829916 0.8283137  0.95965605 0.76572745 0.85378499 0.94450192\n",
      " 0.97702564 0.95259319 0.9669414  0.9772415 ]\n",
      "Mean Accuracy: 0.9204084999036318\n",
      "Accuracy for each fold: [0.98344107 0.85763306 0.95124473 0.81986286 0.89759904 0.94971284\n",
      " 0.9818305  0.97316246 0.96901562 0.97106259]\n",
      "Mean Accuracy: 0.9354564774377307\n",
      "Accuracy for each fold: [0.98192858 0.84232696 0.9550843  0.81774016 0.91282433 0.91444721\n",
      " 0.9856118  0.9706875  0.96269184 0.96854629]\n",
      "Mean Accuracy: 0.9311888971667137\n",
      "Accuracy for each fold: [0.9849558  0.83529936 0.92958512 0.81550682 0.90911712 0.92143061\n",
      " 0.98028876 0.95085812 0.95757631 0.97356081]\n",
      "Mean Accuracy: 0.9258178825772194\n",
      "Accuracy for each fold: [0.98193705 0.85514433 0.94627136 0.82909819 0.92534208 0.94761254\n",
      " 0.97398188 0.9715716  0.97218115 0.97357136]\n",
      "Mean Accuracy: 0.9376711532248627\n",
      "Accuracy for each fold: [0.9763052  0.82440702 0.96558687 0.84697274 0.91465097 0.90880974\n",
      " 0.98937864 0.96659899 0.96640947 0.97982566]\n",
      "Mean Accuracy: 0.9338945294107035\n",
      "Accuracy for each fold: [0.98503133 0.81423284 0.96521528 0.86208802 0.90841811 0.94840759\n",
      " 0.98608142 0.96116591 0.96385311 0.97945077]\n",
      "Mean Accuracy: 0.9373944379376123\n",
      "Accuracy for each fold: [0.98177504 0.83455537 0.95608738 0.82283437 0.91302019 0.93726994\n",
      " 0.98308951 0.9679541  0.9653791  0.97158371]\n",
      "Mean Accuracy: 0.9333548709189093\n",
      "Accuracy for each fold: [0.98055186 0.81886287 0.93921872 0.80619787 0.88716449 0.91528291\n",
      " 0.97134935 0.94979134 0.95813392 0.97723431]\n",
      "Mean Accuracy: 0.9203787631440873\n",
      "Accuracy for each fold: [0.9837738  0.83961102 0.95013545 0.82471606 0.92449572 0.93967412\n",
      " 0.9706363  0.93046845 0.95683388 0.96469491]\n",
      "Mean Accuracy: 0.928503971416311\n",
      "Accuracy for each fold: [0.98333111 0.85612726 0.95892034 0.82608448 0.92275164 0.92594137\n",
      " 0.96828392 0.93028186 0.96072357 0.96594268]\n",
      "Mean Accuracy: 0.9298388239627272\n",
      "Accuracy for each fold: [0.98260625 0.85797184 0.96351048 0.83731209 0.92293025 0.92959745\n",
      " 0.97785642 0.9359649  0.95093031 0.94930232]\n",
      "Mean Accuracy: 0.9307982312430889\n",
      "Accuracy for each fold: [0.98434408 0.83060431 0.96220716 0.84377303 0.90249999 0.94031994\n",
      " 0.97634385 0.92963021 0.95468032 0.95919039]\n",
      "Mean Accuracy: 0.9283593274164433\n",
      "Accuracy for each fold: [0.96956361 0.80321596 0.95608743 0.7902528  0.8604818  0.92762711\n",
      " 0.94823311 0.93733905 0.95741076 0.95059086]\n",
      "Mean Accuracy: 0.9100802483725421\n",
      "Accuracy for each fold: [0.97271641 0.8386264  0.9293989  0.7927239  0.92250058 0.90658087\n",
      " 0.94216836 0.91770557 0.94516417 0.95200374]\n",
      "Mean Accuracy: 0.9119588905142091\n",
      "Accuracy for each fold: [0.96874038 0.82578576 0.93834085 0.81080923 0.90903538 0.91213886\n",
      " 0.94622876 0.91176514 0.94417149 0.94308047]\n",
      "Mean Accuracy: 0.9110096325473463\n",
      "Accuracy for each fold: [0.95377886 0.78405714 0.93654822 0.81002845 0.88336065 0.90914195\n",
      " 0.93783678 0.89557159 0.93311339 0.92388745]\n",
      "Mean Accuracy: 0.8967324481384908\n",
      "Accuracy for each fold: [0.94435839 0.78057129 0.93395909 0.80426957 0.86637657 0.89894262\n",
      " 0.93009162 0.89043906 0.93326219 0.91999276]\n",
      "Mean Accuracy: 0.8902263152069667\n",
      "Accuracy for each fold: [0.93490623 0.77679781 0.92717291 0.81159232 0.86615492 0.88141186\n",
      " 0.91398928 0.86526258 0.9180457  0.93426874]\n",
      "Mean Accuracy: 0.8829602353888601\n",
      "Accuracy for each fold: [0.95985811 0.82938314 0.92047915 0.79566803 0.9065271  0.89960619\n",
      " 0.93106454 0.88667673 0.93888421 0.93377287]\n",
      "Mean Accuracy: 0.9001920062094978\n",
      "Accuracy for each fold: [0.93786343 0.80806681 0.91543877 0.79829379 0.89687599 0.89723441\n",
      " 0.90900654 0.86752072 0.92783961 0.91065523]\n",
      "Mean Accuracy: 0.8868795304762711\n",
      "Accuracy for each fold: [0.90128507 0.7256385  0.91777674 0.78519738 0.82995536 0.86313325\n",
      " 0.89763606 0.8042525  0.87944641 0.87967999]\n",
      "Mean Accuracy: 0.8484001274002584\n",
      "Accuracy for each fold: [0.85927854 0.72375795 0.90408269 0.77215924 0.79961282 0.79286146\n",
      " 0.86197322 0.77053784 0.86052694 0.87677639]\n",
      "Mean Accuracy: 0.8221567081789555\n",
      "Accuracy for each fold: [0.86040826 0.71074207 0.86832521 0.79214608 0.73257967 0.66499256\n",
      " 0.82774604 0.76271814 0.75681573 0.85898692]\n",
      "Mean Accuracy: 0.7835460676264756\n",
      "Best Alpha value: 0.001\n",
      "Best L1 Ratio: 1\n",
      "Best F1 Score: 0.9376711532248627\n"
     ]
    }
   ],
   "source": [
    "overall_best_score=0\n",
    "best_score= 0\n",
    "XX=[]\n",
    "current_score=0\n",
    "\n",
    "for i in Alpha:\n",
    "\n",
    "    for j in Ratio:\n",
    "        enet = SGDClassifier(loss='log', penalty='elasticnet', alpha=i, l1_ratio=j, max_iter=10)\n",
    "        scores_enet = cross_val_score(enet, X_train, Y_train, cv=10, scoring='f1_macro')\n",
    "        print(\"Accuracy for each fold: {}\".format(scores_enet))   \n",
    "        print(\"Mean Accuracy: {}\".format(np.mean(scores_enet))) \n",
    "        \n",
    "        current_score= np.mean(scores_enet)\n",
    "        XX.append(current_score)\n",
    "        if(current_score>best_score):\n",
    "            best_score= current_score\n",
    "\n",
    "    if(best_score>overall_best_score):\n",
    "        overall_best_score= best_score\n",
    "        Alpha_best= i\n",
    "        Ratio_best= j\n",
    "        \n",
    "print(\"Best Alpha value:\",Alpha_best)\n",
    "print(\"Best L1 Ratio:\",Ratio_best)  \n",
    "print(\"Best F1 Score:\", best_score)"
   ]
  },
  {
   "cell_type": "code",
   "execution_count": 110,
   "metadata": {},
   "outputs": [
    {
     "data": {
      "image/png": "[encoded data removed]",
      "text/plain": [
       "<Figure size 432x288 with 1 Axes>"
      ]
     },
     "metadata": {},
     "output_type": "display_data"
    }
   ],
   "source": [
    "from mpl_toolkits.mplot3d import Axes3D\n",
    "i=0\n",
    "Axis=np.zeros([5,6]) #z axis for surface plot\n",
    "for j in range(0,5):\n",
    "    for k in range(0,6):\n",
    "        Axis[j,k]=XX[i]\n",
    "        i=i+1\n",
    "\n",
    "\n",
    "x = Alpha  \n",
    "y = Ratio\n",
    "X, Y = np.meshgrid(x, y)\n",
    "Z = Axis \n",
    "\n",
    "\n",
    "fig = plt.figure()\n",
    "ax = fig.gca(projection='3d')\n",
    "ax.set_xlabel('L1 Ratio')\n",
    "ax.set_ylabel('Alpha')\n",
    "ax.set_zlabel('F1 Score')\n",
    "surface = ax.plot_surface(X, Y, Z, rstride=1, cstride=1, antialiased=True)\n",
    "plt.show()"
   ]
  },
  {
   "cell_type": "code",
   "execution_count": 111,
   "metadata": {},
   "outputs": [
    {
     "name": "stdout",
     "output_type": "stream",
     "text": [
      "predicted labels: [5 5 5 ... 2 2 1]\n",
      "Enet Testing Accuracy: 0.9263408010862186\n",
      "Enet Confusion matrix: [[489   3   4   0   0   0]\n",
      " [ 34 389  45   1   2   0]\n",
      " [ 11   8 400   0   1   0]\n",
      " [  2   3   1 405  80   0]\n",
      " [  1   0   0  21 509   0]\n",
      " [  0   0   0   0   0 537]]\n",
      "Enet Multi-class averaged F1-score: 0.9242184696261492\n"
     ]
    }
   ],
   "source": [
    "Retrain_enet = SGDClassifier(loss='log', penalty='elasticnet', alpha=Alpha_best, l1_ratio=Ratio_best, max_iter=10)\n",
    "Retrain_enet.fit(X_train, Y_train)\n",
    "\n",
    "labels_predict= Retrain_enet.predict(X_test)\n",
    "print(\"predicted labels:\",labels_predict)\n",
    "\n",
    "Accuracy = metrics.accuracy_score(Y_test, Retrain_enet.predict(X_test))\n",
    "print (\"Enet Testing Accuracy: {}\".format(Accuracy))\n",
    "\n",
    "Confusion_matrix=metrics.confusion_matrix(Y_test, Retrain_enet.predict(X_test), labels=None, sample_weight=None)\n",
    "print (\"Enet Confusion matrix:\", Confusion_matrix)\n",
    "\n",
    "Average_f1_score= metrics.f1_score(Y_test, Retrain_enet.predict(X_test), pos_label=1, average='macro', sample_weight=None)\n",
    "print (\"Enet Multi-class averaged F1-score:\",Average_f1_score)"
   ]
  },
  {
   "cell_type": "markdown",
   "metadata": {},
   "source": [
    "## Task D- Support Vector Machine"
   ]
  },
  {
   "cell_type": "code",
   "execution_count": 87,
   "metadata": {},
   "outputs": [],
   "source": [
    "from sklearn import svm\n",
    "from sklearn import metrics\n",
    "from sklearn.model_selection import cross_val_score"
   ]
  },
  {
   "cell_type": "code",
   "execution_count": 88,
   "metadata": {},
   "outputs": [],
   "source": [
    "Gamma= [1e-3, 1e-4]\n",
    "C= [1, 10, 100, 1000]"
   ]
  },
  {
   "cell_type": "code",
   "execution_count": 89,
   "metadata": {},
   "outputs": [
    {
     "name": "stdout",
     "output_type": "stream",
     "text": [
      "Accuracy for each fold: [0.95925431 0.83301309 0.92482312 0.8191475  0.91186111 0.8936819\n",
      " 0.9322585  0.90301774 0.94278782 0.94109471]\n",
      "Mean Accuracy: 0.9060939803403066\n",
      "Accuracy for each fold: [0.97840762 0.86448835 0.95618942 0.84863279 0.95276547 0.93173218\n",
      " 0.98261535 0.96820653 0.96419155 0.96953421]\n",
      "Mean Accuracy: 0.9416763469196138\n",
      "Accuracy for each fold: [0.97603465 0.85643901 0.96184626 0.86335957 0.9616319  0.9555038\n",
      " 0.98714363 0.96761636 0.97853811 0.97861148]\n",
      "Mean Accuracy: 0.948672477761853\n",
      "Accuracy for each fold: [0.97851929 0.86108365 0.96309109 0.86506018 0.96142828 0.95388634\n",
      " 0.98588623 0.97051561 0.97731941 0.98613509]\n",
      "Mean Accuracy: 0.9502925178530368\n",
      "Accuracy for each fold: [0.80690727 0.71111232 0.83318834 0.72831452 0.81406691 0.76882877\n",
      " 0.7954595  0.79800701 0.83168943 0.83765188]\n",
      "Mean Accuracy: 0.7925225948029889\n",
      "Accuracy for each fold: [0.95925431 0.83231798 0.92482312 0.81774471 0.91330665 0.89221029\n",
      " 0.93510112 0.90293144 0.94278782 0.94109471]\n",
      "Mean Accuracy: 0.9061572149961832\n",
      "Accuracy for each fold: [0.97715918 0.86074093 0.95494073 0.84153508 0.95354289 0.93489988\n",
      " 0.98387221 0.96659366 0.96548979 0.96953421]\n",
      "Mean Accuracy: 0.940830855950163\n",
      "Accuracy for each fold: [0.9747877  0.8543087  0.95877804 0.84376923 0.95956284 0.95410732\n",
      " 0.98434798 0.96924066 0.97728571 0.97861148]\n",
      "Mean Accuracy: 0.9454799672174398\n",
      "Best Gamma value:  0.001\n",
      "Best C value:  1000\n",
      "Best F1 Score:  0.9502925178530368\n"
     ]
    }
   ],
   "source": [
    "overall_best_score=0\n",
    "best_score= 0\n",
    "current_score=0\n",
    "XX=[]\n",
    "for i in Gamma:\n",
    "    \n",
    "    for j in C:\n",
    "        \n",
    "        svc_model = svm.SVC(kernel='rbf', gamma=i, C=j)\n",
    "        scores_svc = cross_val_score(svc_model, X_train, Y_train, cv=10, scoring='f1_macro')\n",
    "        \n",
    "        print(\"Accuracy for each fold: {}\".format(scores_svc))   \n",
    "        print(\"Mean Accuracy: {}\".format(np.mean(scores_svc))) \n",
    "        \n",
    "        current_score= np.mean(scores_svc)\n",
    "        XX.append(current_score)\n",
    "        \n",
    "        if(current_score>best_score):\n",
    "            best_score= current_score\n",
    "            \n",
    "    if(best_score>overall_best_score):\n",
    "        overall_best_score= best_score\n",
    "        Gamma_best= i\n",
    "        C_best= j\n",
    "        \n",
    "print(\"Best Gamma value: \",Gamma_best)\n",
    "print(\"Best C value: \",C_best)\n",
    "print(\"Best F1 Score: \", best_score)"
   ]
  },
  {
   "cell_type": "code",
   "execution_count": 91,
   "metadata": {},
   "outputs": [
    {
     "data": {
      "image/png": "[encoded data removed]",
      "text/plain": [
       "<Figure size 432x288 with 1 Axes>"
      ]
     },
     "metadata": {},
     "output_type": "display_data"
    }
   ],
   "source": [
    "\n",
    "i=0\n",
    "Axis=np.zeros([4,2]) #z axis for surface plot\n",
    "for j in range(0,4):\n",
    "    for k in range(0,2):\n",
    "        Axis[j,k]=XX[i]\n",
    "        i=i+1\n",
    "\n",
    "\n",
    "X, Y = np.meshgrid(Gamma, C)\n",
    "Z = Axis \n",
    "\n",
    "\n",
    "fig = plt.figure()\n",
    "ax = fig.gca(projection='3d')\n",
    "ax.set_xlabel('Gamma')\n",
    "ax.set_ylabel('C')\n",
    "ax.set_zlabel('F1 Score')\n",
    "surface = ax.plot_surface(X, Y, Z, rstride=1, cstride=1, antialiased=True)\n",
    "plt.show()"
   ]
  },
  {
   "cell_type": "code",
   "execution_count": 112,
   "metadata": {},
   "outputs": [
    {
     "name": "stdout",
     "output_type": "stream",
     "text": [
      "predicted labels: [5 5 5 ... 2 2 2]\n",
      "SVM Testing Accuracy: 0.9657162253903598\n",
      "SVM Confusion matrix: [[493   0   3   0   0   0]\n",
      " [ 17 454   0   0   0   0]\n",
      " [  4  10 406   0   0   0]\n",
      " [  0   2   0 436  53   0]\n",
      " [  0   0   0  12 519   0]\n",
      " [  0   0   0   0   0 537]]\n",
      "SVM Multi-class averaged F1-score: 0.9657497427160174\n"
     ]
    }
   ],
   "source": [
    "Retrain_svm = svm.SVC(kernel='rbf', gamma=Gamma_best, C=C_best)\n",
    "Retrain_svm.fit(X_train, Y_train)\n",
    "\n",
    "labels_predict= Retrain_svm.predict(X_test)\n",
    "print(\"predicted labels:\",labels_predict)\n",
    "\n",
    "Accuracy = metrics.accuracy_score(Y_test, Retrain_svm.predict(X_test))\n",
    "print (\"SVM Testing Accuracy: {}\".format(Accuracy))\n",
    "\n",
    "Confusion_matrix=metrics.confusion_matrix(Y_test, Retrain_svm.predict(X_test), labels=None, sample_weight=None)\n",
    "print (\"SVM Confusion matrix:\", Confusion_matrix)\n",
    "\n",
    "Average_f1_score= metrics.f1_score(Y_test, Retrain_svm.predict(X_test), pos_label=1, average='macro', sample_weight=None)\n",
    "print (\"SVM Multi-class averaged F1-score:\",Average_f1_score)"
   ]
  },
  {
   "cell_type": "markdown",
   "metadata": {},
   "source": [
    "## Task E- Random Forest"
   ]
  },
  {
   "cell_type": "code",
   "execution_count": 113,
   "metadata": {},
   "outputs": [],
   "source": [
    "from sklearn.ensemble import RandomForestClassifier\n",
    "from sklearn.model_selection import cross_val_score"
   ]
  },
  {
   "cell_type": "code",
   "execution_count": 114,
   "metadata": {},
   "outputs": [],
   "source": [
    "trees= [200,500,700]\n",
    "depth= [300,500,600]"
   ]
  },
  {
   "cell_type": "code",
   "execution_count": 115,
   "metadata": {},
   "outputs": [
    {
     "name": "stdout",
     "output_type": "stream",
     "text": [
      "Accuracy for each fold: [0.93083821 0.87754813 0.96798978 0.84094369 0.9084641  0.86939827\n",
      " 0.97604705 0.9823     0.95324942 0.96807847]\n",
      "Mean Accuracy: 0.927485711602517\n",
      "Accuracy for each fold: [0.93083821 0.87754813 0.96798978 0.84094369 0.9084641  0.86939827\n",
      " 0.97604705 0.9823     0.95324942 0.96807847]\n",
      "Mean Accuracy: 0.927485711602517\n",
      "Accuracy for each fold: [0.93083821 0.87754813 0.96798978 0.84094369 0.9084641  0.86939827\n",
      " 0.97604705 0.9823     0.95324942 0.96807847]\n",
      "Mean Accuracy: 0.927485711602517\n",
      "Accuracy for each fold: [0.93165761 0.87935015 0.97166269 0.8387551  0.92680522 0.8740998\n",
      " 0.9758385  0.9824924  0.95316371 0.96051517]\n",
      "Mean Accuracy: 0.9294340340455127\n",
      "Accuracy for each fold: [0.93165761 0.87935015 0.97166269 0.8387551  0.92680522 0.8740998\n",
      " 0.9758385  0.9824924  0.95316371 0.96051517]\n",
      "Mean Accuracy: 0.9294340340455127\n",
      "Accuracy for each fold: [0.93165761 0.87935015 0.97166269 0.8387551  0.92680522 0.8740998\n",
      " 0.9758385  0.9824924  0.95316371 0.96051517]\n",
      "Mean Accuracy: 0.9294340340455127\n",
      "Accuracy for each fold: [0.93291111 0.88118462 0.97166269 0.83742043 0.93140877 0.87944907\n",
      " 0.97343703 0.9824924  0.95316371 0.96177841]\n",
      "Mean Accuracy: 0.9304908221758936\n",
      "Accuracy for each fold: [0.93291111 0.88118462 0.97166269 0.83742043 0.93140877 0.87944907\n",
      " 0.97343703 0.9824924  0.95316371 0.96177841]\n",
      "Mean Accuracy: 0.9304908221758936\n",
      "Accuracy for each fold: [0.93291111 0.88118462 0.97166269 0.83742043 0.93140877 0.87944907\n",
      " 0.97343703 0.9824924  0.95316371 0.96177841]\n",
      "Mean Accuracy: 0.9304908221758936\n",
      "best number of trees value: 700\n",
      "best trees depth: 600\n",
      "best F1 Score: 0.9304908221758936\n"
     ]
    }
   ],
   "source": [
    "overall_best_score=0\n",
    "best_score= 0\n",
    "XX=[]\n",
    "current_score=0\n",
    "\n",
    "for i in trees:\n",
    "    \n",
    "    for j in depth:\n",
    "        \n",
    "        rf_model = RandomForestClassifier(n_estimators=i, max_depth=j, random_state=42)\n",
    "        scores_rf = cross_val_score(rf_model, X_train, Y_train, cv=10, scoring='f1_macro')\n",
    "        print(\"Accuracy for each fold: {}\".format(scores_rf))   \n",
    "        print(\"Mean Accuracy: {}\".format(np.mean(scores_rf))) \n",
    "        current_score= np.mean(scores_rf)\n",
    "        XX.append(current_score)\n",
    "        \n",
    "        if(current_score>best_score):\n",
    "            best_score= current_score\n",
    "            \n",
    "    if(best_score>overall_best_score):\n",
    "        overall_best_score= best_score\n",
    "        Number_of_trees= i\n",
    "        Tree_depth= j\n",
    "        \n",
    "print(\"best number of trees value:\",Number_of_trees)\n",
    "print(\"best trees depth:\",Tree_depth)\n",
    "print(\"best F1 Score:\", best_score)\n"
   ]
  },
  {
   "cell_type": "code",
   "execution_count": 116,
   "metadata": {},
   "outputs": [
    {
     "data": {
      "image/png": "[encoded data removed]",
      "text/plain": [
       "<Figure size 432x288 with 1 Axes>"
      ]
     },
     "metadata": {},
     "output_type": "display_data"
    }
   ],
   "source": [
    "from mpl_toolkits.mplot3d import Axes3D\n",
    "\n",
    "i=0\n",
    "Axis=np.zeros([3,3]) #z axis for surface plot\n",
    "for j in range(0,3):\n",
    "    for k in range(0,3):\n",
    "        Axis[j,k]=XX[i]\n",
    "        i=i+1\n",
    "\n",
    "\n",
    "X, Y = np.meshgrid(trees, depth)\n",
    "Z = Axis \n",
    "\n",
    "\n",
    "fig = plt.figure()\n",
    "ax = fig.gca(projection='3d')\n",
    "ax.set_xlabel('Trees')\n",
    "ax.set_ylabel('Depth')\n",
    "ax.set_zlabel('F1 Score')\n",
    "surface = ax.plot_surface(X, Y, Z, rstride=1, cstride=1, antialiased=True)\n",
    "plt.show()"
   ]
  },
  {
   "cell_type": "code",
   "execution_count": 117,
   "metadata": {},
   "outputs": [
    {
     "name": "stdout",
     "output_type": "stream",
     "text": [
      "predicted labels: [5 5 5 ... 2 2 1]\n",
      "Random Forest Testing Accuracy: 0.9287169042769857\n",
      "Random Forest Confusion matrix: [[482   5   9   0   0   0]\n",
      " [ 29 435   7   0   0   0]\n",
      " [ 20  45 355   0   0   0]\n",
      " [  0   0   0 435  56   0]\n",
      " [  0   0   0  39 492   0]\n",
      " [  0   0   0   0   0 537]]\n",
      "Random Forest Multi-class averaged F1-score: 0.926634336197807\n"
     ]
    }
   ],
   "source": [
    "from sklearn import metrics\n",
    "\n",
    "Retrain_rf = RandomForestClassifier(n_estimators= Number_of_trees, max_depth=Tree_depth, random_state=42)\n",
    "Retrain_rf.fit(X_train, Y_train)\n",
    "\n",
    "labels_predict= Retrain_rf.predict(X_test)\n",
    "print(\"predicted labels:\",labels_predict)\n",
    "\n",
    "Accuracy = metrics.accuracy_score(Y_test, Retrain_rf.predict(X_test))\n",
    "print (\"Random Forest Testing Accuracy: {}\".format(Accuracy))\n",
    "\n",
    "Confusion_matrix=metrics.confusion_matrix(Y_test, Retrain_rf.predict(X_test), labels=None, sample_weight=None)\n",
    "print (\"Random Forest Confusion matrix:\", Confusion_matrix)\n",
    "\n",
    "Average_f1_score= metrics.f1_score(Y_test, Retrain_rf.predict(X_test), pos_label=1, average='macro', sample_weight=None)\n",
    "print (\"Random Forest Multi-class averaged F1-score:\",Average_f1_score)"
   ]
  },
  {
   "cell_type": "code",
   "execution_count": null,
   "metadata": {},
   "outputs": [],
   "source": []
  }
 ],
 "metadata": {
  "kernelspec": {
   "display_name": "Python 3",
   "language": "python",
   "name": "python3"
  },
  "language_info": {
   "codemirror_mode": {
    "name": "ipython",
    "version": 3
   },
   "file_extension": ".py",
   "mimetype": "text/x-python",
   "name": "python",
   "nbconvert_exporter": "python",
   "pygments_lexer": "ipython3",
   "version": "3.7.3"
  }
 },
 "nbformat": 4,
 "nbformat_minor": 2
}
